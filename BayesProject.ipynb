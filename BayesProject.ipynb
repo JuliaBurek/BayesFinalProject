{
 "cells": [
  {
   "cell_type": "markdown",
   "id": "40e0c976-cd49-4602-936c-024eeee31540",
   "metadata": {},
   "source": [
    "# A Bayesian Approach to Smoke Alarm Detection"
   ]
  },
  {
   "cell_type": "markdown",
   "id": "46823985-62c8-4f0a-bcaf-2e2e9ab1b272",
   "metadata": {},
   "source": [
    "#### Julia Burek, Gunnar Franko, Chelsea Le Sage"
   ]
  },
  {
   "cell_type": "markdown",
   "id": "d3ee2f4d-871f-4bda-8301-b03e5b44a359",
   "metadata": {},
   "source": [
    "On our honor, we have neither given nor received unauthorized aid on this project."
   ]
  },
  {
   "cell_type": "code",
   "execution_count": 1,
   "id": "e03555aa-3145-4719-9297-1cdbfc833ed0",
   "metadata": {},
   "outputs": [],
   "source": [
    "import pandas as pd\n",
    "import numpy as np\n",
    "import seaborn as sns\n",
    "import matplotlib.pyplot as plt"
   ]
  },
  {
   "cell_type": "code",
   "execution_count": 2,
   "id": "d1141234-0250-4b6e-a2f0-c9c13fd3d994",
   "metadata": {},
   "outputs": [
    {
     "data": {
      "text/html": [
       "<div>\n",
       "<style scoped>\n",
       "    .dataframe tbody tr th:only-of-type {\n",
       "        vertical-align: middle;\n",
       "    }\n",
       "\n",
       "    .dataframe tbody tr th {\n",
       "        vertical-align: top;\n",
       "    }\n",
       "\n",
       "    .dataframe thead th {\n",
       "        text-align: right;\n",
       "    }\n",
       "</style>\n",
       "<table border=\"1\" class=\"dataframe\">\n",
       "  <thead>\n",
       "    <tr style=\"text-align: right;\">\n",
       "      <th></th>\n",
       "      <th>Temperature[C]</th>\n",
       "      <th>Humidity[%]</th>\n",
       "      <th>TVOC[ppb]</th>\n",
       "      <th>eCO2[ppm]</th>\n",
       "      <th>Raw H2</th>\n",
       "      <th>Raw Ethanol</th>\n",
       "      <th>Pressure[hPa]</th>\n",
       "      <th>PM1.0</th>\n",
       "      <th>PM2.5</th>\n",
       "      <th>NC0.5</th>\n",
       "      <th>NC1.0</th>\n",
       "      <th>NC2.5</th>\n",
       "      <th>Fire Alarm</th>\n",
       "    </tr>\n",
       "  </thead>\n",
       "  <tbody>\n",
       "    <tr>\n",
       "      <th>0</th>\n",
       "      <td>20.000</td>\n",
       "      <td>57.36</td>\n",
       "      <td>0</td>\n",
       "      <td>400</td>\n",
       "      <td>12306</td>\n",
       "      <td>18520</td>\n",
       "      <td>939.735</td>\n",
       "      <td>0.0</td>\n",
       "      <td>0.0</td>\n",
       "      <td>0.0</td>\n",
       "      <td>0.0</td>\n",
       "      <td>0.0</td>\n",
       "      <td>0</td>\n",
       "    </tr>\n",
       "    <tr>\n",
       "      <th>1</th>\n",
       "      <td>20.015</td>\n",
       "      <td>56.67</td>\n",
       "      <td>0</td>\n",
       "      <td>400</td>\n",
       "      <td>12345</td>\n",
       "      <td>18651</td>\n",
       "      <td>939.744</td>\n",
       "      <td>0.0</td>\n",
       "      <td>0.0</td>\n",
       "      <td>0.0</td>\n",
       "      <td>0.0</td>\n",
       "      <td>0.0</td>\n",
       "      <td>0</td>\n",
       "    </tr>\n",
       "    <tr>\n",
       "      <th>2</th>\n",
       "      <td>20.029</td>\n",
       "      <td>55.96</td>\n",
       "      <td>0</td>\n",
       "      <td>400</td>\n",
       "      <td>12374</td>\n",
       "      <td>18764</td>\n",
       "      <td>939.738</td>\n",
       "      <td>0.0</td>\n",
       "      <td>0.0</td>\n",
       "      <td>0.0</td>\n",
       "      <td>0.0</td>\n",
       "      <td>0.0</td>\n",
       "      <td>0</td>\n",
       "    </tr>\n",
       "    <tr>\n",
       "      <th>3</th>\n",
       "      <td>20.044</td>\n",
       "      <td>55.28</td>\n",
       "      <td>0</td>\n",
       "      <td>400</td>\n",
       "      <td>12390</td>\n",
       "      <td>18849</td>\n",
       "      <td>939.736</td>\n",
       "      <td>0.0</td>\n",
       "      <td>0.0</td>\n",
       "      <td>0.0</td>\n",
       "      <td>0.0</td>\n",
       "      <td>0.0</td>\n",
       "      <td>0</td>\n",
       "    </tr>\n",
       "    <tr>\n",
       "      <th>4</th>\n",
       "      <td>20.059</td>\n",
       "      <td>54.69</td>\n",
       "      <td>0</td>\n",
       "      <td>400</td>\n",
       "      <td>12403</td>\n",
       "      <td>18921</td>\n",
       "      <td>939.744</td>\n",
       "      <td>0.0</td>\n",
       "      <td>0.0</td>\n",
       "      <td>0.0</td>\n",
       "      <td>0.0</td>\n",
       "      <td>0.0</td>\n",
       "      <td>0</td>\n",
       "    </tr>\n",
       "  </tbody>\n",
       "</table>\n",
       "</div>"
      ],
      "text/plain": [
       "   Temperature[C]  Humidity[%]  TVOC[ppb]  eCO2[ppm]  Raw H2  Raw Ethanol  \\\n",
       "0          20.000        57.36          0        400   12306        18520   \n",
       "1          20.015        56.67          0        400   12345        18651   \n",
       "2          20.029        55.96          0        400   12374        18764   \n",
       "3          20.044        55.28          0        400   12390        18849   \n",
       "4          20.059        54.69          0        400   12403        18921   \n",
       "\n",
       "   Pressure[hPa]  PM1.0  PM2.5  NC0.5  NC1.0  NC2.5  Fire Alarm  \n",
       "0        939.735    0.0    0.0    0.0    0.0    0.0           0  \n",
       "1        939.744    0.0    0.0    0.0    0.0    0.0           0  \n",
       "2        939.738    0.0    0.0    0.0    0.0    0.0           0  \n",
       "3        939.736    0.0    0.0    0.0    0.0    0.0           0  \n",
       "4        939.744    0.0    0.0    0.0    0.0    0.0           0  "
      ]
     },
     "execution_count": 2,
     "metadata": {},
     "output_type": "execute_result"
    }
   ],
   "source": [
    "# Read in data and drop irrelevant columns\n",
    "data = pd.read_csv('smoke_detection_iot.csv')\n",
    "data = data.drop(data.columns[0], axis = 1) # remove indexing\n",
    "data = data.drop([\"UTC\"], axis = 1) # remove timestamp\n",
    "data = data.drop([\"CNT\"], axis = 1) # remove count (indexing)\n",
    "data.head()"
   ]
  },
  {
   "cell_type": "code",
   "execution_count": 3,
   "id": "a8d5ee8c-a8f3-458a-8eef-f6ba2bca35f5",
   "metadata": {},
   "outputs": [
    {
     "data": {
      "text/plain": [
       "62630"
      ]
     },
     "execution_count": 3,
     "metadata": {},
     "output_type": "execute_result"
    }
   ],
   "source": [
    "# Determine how many observations the dataset contains\n",
    "len(data['Fire Alarm'])"
   ]
  },
  {
   "cell_type": "code",
   "execution_count": 4,
   "id": "48cc00a2-43b2-41d3-80e5-ebbf89dc7042",
   "metadata": {},
   "outputs": [
    {
     "data": {
      "text/plain": [
       "1    44757\n",
       "0    17873\n",
       "Name: Fire Alarm, dtype: int64"
      ]
     },
     "execution_count": 4,
     "metadata": {},
     "output_type": "execute_result"
    }
   ],
   "source": [
    "# Determine how many observations are 1 for fire and 0 for no fire\n",
    "data['Fire Alarm'].value_counts()"
   ]
  },
  {
   "cell_type": "code",
   "execution_count": 5,
   "id": "49425717-d0b0-4656-8780-380e8624a931",
   "metadata": {},
   "outputs": [
    {
     "data": {
      "text/plain": [
       "<AxesSubplot: title={'center': \"Target Variable ('Fire Alarm') Distribution\"}>"
      ]
     },
     "execution_count": 5,
     "metadata": {},
     "output_type": "execute_result"
    },
    {
     "data": {
      "image/png": "[encoded data removed]",
      "text/plain": [
       "<Figure size 432x288 with 1 Axes>"
      ]
     },
     "metadata": {
      "needs_background": "light"
     },
     "output_type": "display_data"
    }
   ],
   "source": [
    "# Create bar plot indicating value counts of target variable, \"Fire Alarm\"\n",
    "data['Fire Alarm'].value_counts().plot(kind='bar', title=\"Target Variable ('Fire Alarm') Distribution\")"
   ]
  },
  {
   "cell_type": "markdown",
   "id": "403bb04d-3ece-41d1-b120-eef2a5d8d129",
   "metadata": {},
   "source": [
    "#### 1 -> fire present (71.46%)\n",
    "#### 0 -> fire not present (28.54%)"
   ]
  },
  {
   "cell_type": "markdown",
   "id": "3265352e-d10e-439c-9d25-c7495cc3ff20",
   "metadata": {},
   "source": [
    "#### The data is imbalanced with more fires present than no fire. This is important to keep in mind when interpreting results."
   ]
  },
  {
   "cell_type": "code",
   "execution_count": 6,
   "id": "88926ae4-4f9d-498a-8fc9-cd130bcbeb89",
   "metadata": {},
   "outputs": [
    {
     "data": {
      "text/plain": [
       "Temperature[C]    0\n",
       "Humidity[%]       0\n",
       "TVOC[ppb]         0\n",
       "eCO2[ppm]         0\n",
       "Raw H2            0\n",
       "Raw Ethanol       0\n",
       "Pressure[hPa]     0\n",
       "PM1.0             0\n",
       "PM2.5             0\n",
       "NC0.5             0\n",
       "NC1.0             0\n",
       "NC2.5             0\n",
       "Fire Alarm        0\n",
       "dtype: int64"
      ]
     },
     "execution_count": 6,
     "metadata": {},
     "output_type": "execute_result"
    }
   ],
   "source": [
    "# See if there is any missing data (none)\n",
    "data.isna().sum()"
   ]
  },
  {
   "cell_type": "markdown",
   "id": "5672676a-7279-429f-bbd6-433fb48d7452",
   "metadata": {},
   "source": [
    "## Exploratory Data Analysis"
   ]
  },
  {
   "cell_type": "code",
   "execution_count": 7,
   "id": "fddbefd0-ccf0-4728-a262-ceb866615f1b",
   "metadata": {},
   "outputs": [
    {
     "data": {
      "image/png": "[encoded data removed]",
      "text/plain": [
       "<Figure size 720x432 with 1 Axes>"
      ]
     },
     "metadata": {
      "needs_background": "light"
     },
     "output_type": "display_data"
    }
   ],
   "source": [
    "plt.figure(figsize=(10,6))\n",
    "corr_data = data.corr()[\"Fire Alarm\"].sort_values(ascending=False)\n",
    "indices = corr_data.index\n",
    "labs = []\n",
    "corr = []\n",
    "for i in range(1, len(indices)):\n",
    "    labs.append(indices[i])\n",
    "    corr.append(corr_data[i])\n",
    "sns.barplot(x=corr, y=labs)\n",
    "plt.title('Correlation Coefficient Between Predictors and Fire Alarm')\n",
    "plt.show()"
   ]
  },
  {
   "cell_type": "markdown",
   "id": "437be703-e8fd-4f61-bdc0-b9dae6e854f6",
   "metadata": {},
   "source": [
    "#### We see a small positive correlation between **Humidity** and the target feature, **Fire Alarm**. A change in humidity is most significant to the fire alarm."
   ]
  },
  {
   "cell_type": "code",
   "execution_count": 8,
   "id": "f00ebcae-65c5-4faa-8725-66c122a25e20",
   "metadata": {},
   "outputs": [
    {
     "data": {
      "text/plain": [
       "<AxesSubplot: >"
      ]
     },
     "execution_count": 8,
     "metadata": {},
     "output_type": "execute_result"
    },
    {
     "data": {
      "image/png": "[encoded data removed]",
      "text/plain": [
       "<Figure size 720x576 with 2 Axes>"
      ]
     },
     "metadata": {
      "needs_background": "light"
     },
     "output_type": "display_data"
    }
   ],
   "source": [
    "plt.figure(figsize = (10, 8))\n",
    "sns.heatmap(data.corr(), annot = True)"
   ]
  },
  {
   "cell_type": "markdown",
   "id": "032189b0-2e8c-47f8-9bf4-0eb642c201fd",
   "metadata": {},
   "source": [
    "#### With a correlation threshold of  ≥  0.6, we find that pressure and humidity are correlated. All PM and NC values also have high correlation amongst themselves and each other. We could remove some of these highly correlated variables to improve model size and accuracy. Humididty has the highest correlation with the target variable, indicating it may be a significant predictor."
   ]
  },
  {
   "cell_type": "code",
   "execution_count": 9,
   "id": "404603d7-847a-4fa8-a598-f3b9313b68e6",
   "metadata": {},
   "outputs": [
    {
     "name": "stderr",
     "output_type": "stream",
     "text": [
      "/Users/juliaburek/opt/anaconda3/lib/python3.9/site-packages/seaborn/distributions.py:2619: FutureWarning: `distplot` is a deprecated function and will be removed in a future version. Please adapt your code to use either `displot` (a figure-level function with similar flexibility) or `histplot` (an axes-level function for histograms).\n",
      "  warnings.warn(msg, FutureWarning)\n"
     ]
    },
    {
     "data": {
      "image/png": "[encoded data removed]",
      "text/plain": [
       "<Figure size 432x288 with 1 Axes>"
      ]
     },
     "metadata": {
      "needs_background": "light"
     },
     "output_type": "display_data"
    }
   ],
   "source": [
    "# Look at distribution of Humidity variable\n",
    "sns.distplot(data['Humidity[%]'])\n",
    "plt.show()"
   ]
  },
  {
   "cell_type": "code",
   "execution_count": 10,
   "id": "b66ee0f3-9b5d-492e-a551-1a701588b843",
   "metadata": {},
   "outputs": [
    {
     "data": {
      "text/html": [
       "<div>\n",
       "<style scoped>\n",
       "    .dataframe tbody tr th:only-of-type {\n",
       "        vertical-align: middle;\n",
       "    }\n",
       "\n",
       "    .dataframe tbody tr th {\n",
       "        vertical-align: top;\n",
       "    }\n",
       "\n",
       "    .dataframe thead th {\n",
       "        text-align: right;\n",
       "    }\n",
       "</style>\n",
       "<table border=\"1\" class=\"dataframe\">\n",
       "  <thead>\n",
       "    <tr style=\"text-align: right;\">\n",
       "      <th></th>\n",
       "      <th>Temperature[C]</th>\n",
       "      <th>Humidity[%]</th>\n",
       "      <th>TVOC[ppb]</th>\n",
       "      <th>eCO2[ppm]</th>\n",
       "      <th>Raw H2</th>\n",
       "      <th>Raw Ethanol</th>\n",
       "      <th>Pressure[hPa]</th>\n",
       "      <th>PM1.0</th>\n",
       "      <th>PM2.5</th>\n",
       "      <th>NC0.5</th>\n",
       "      <th>NC1.0</th>\n",
       "      <th>NC2.5</th>\n",
       "    </tr>\n",
       "    <tr>\n",
       "      <th>Fire Alarm</th>\n",
       "      <th></th>\n",
       "      <th></th>\n",
       "      <th></th>\n",
       "      <th></th>\n",
       "      <th></th>\n",
       "      <th></th>\n",
       "      <th></th>\n",
       "      <th></th>\n",
       "      <th></th>\n",
       "      <th></th>\n",
       "      <th></th>\n",
       "      <th></th>\n",
       "    </tr>\n",
       "  </thead>\n",
       "  <tbody>\n",
       "    <tr>\n",
       "      <th>0</th>\n",
       "      <td>19.694803</td>\n",
       "      <td>42.930077</td>\n",
       "      <td>4596.587255</td>\n",
       "      <td>962.587255</td>\n",
       "      <td>12896.316847</td>\n",
       "      <td>20082.823533</td>\n",
       "      <td>938.101383</td>\n",
       "      <td>261.982706</td>\n",
       "      <td>450.034639</td>\n",
       "      <td>1356.283816</td>\n",
       "      <td>493.872027</td>\n",
       "      <td>178.982259</td>\n",
       "    </tr>\n",
       "    <tr>\n",
       "      <th>1</th>\n",
       "      <td>14.483152</td>\n",
       "      <td>50.779534</td>\n",
       "      <td>882.013071</td>\n",
       "      <td>553.189356</td>\n",
       "      <td>12960.878053</td>\n",
       "      <td>19623.050428</td>\n",
       "      <td>938.837806</td>\n",
       "      <td>36.146406</td>\n",
       "      <td>78.417842</td>\n",
       "      <td>146.111337</td>\n",
       "      <td>87.665549</td>\n",
       "      <td>40.541627</td>\n",
       "    </tr>\n",
       "  </tbody>\n",
       "</table>\n",
       "</div>"
      ],
      "text/plain": [
       "            Temperature[C]  Humidity[%]    TVOC[ppb]   eCO2[ppm]  \\\n",
       "Fire Alarm                                                         \n",
       "0                19.694803    42.930077  4596.587255  962.587255   \n",
       "1                14.483152    50.779534   882.013071  553.189356   \n",
       "\n",
       "                  Raw H2   Raw Ethanol  Pressure[hPa]       PM1.0       PM2.5  \\\n",
       "Fire Alarm                                                                      \n",
       "0           12896.316847  20082.823533     938.101383  261.982706  450.034639   \n",
       "1           12960.878053  19623.050428     938.837806   36.146406   78.417842   \n",
       "\n",
       "                  NC0.5       NC1.0       NC2.5  \n",
       "Fire Alarm                                       \n",
       "0           1356.283816  493.872027  178.982259  \n",
       "1            146.111337   87.665549   40.541627  "
      ]
     },
     "execution_count": 10,
     "metadata": {},
     "output_type": "execute_result"
    }
   ],
   "source": [
    "# Look at means for the different predictor variables\n",
    "predictors = data.keys().drop('Fire Alarm')\n",
    "data.groupby('Fire Alarm')[predictors].mean()"
   ]
  },
  {
   "cell_type": "code",
   "execution_count": 11,
   "id": "71d6b760-1325-4c82-a786-df6a39146108",
   "metadata": {},
   "outputs": [
    {
     "data": {
      "text/html": [
       "<div>\n",
       "<style scoped>\n",
       "    .dataframe tbody tr th:only-of-type {\n",
       "        vertical-align: middle;\n",
       "    }\n",
       "\n",
       "    .dataframe tbody tr th {\n",
       "        vertical-align: top;\n",
       "    }\n",
       "\n",
       "    .dataframe thead th {\n",
       "        text-align: right;\n",
       "    }\n",
       "</style>\n",
       "<table border=\"1\" class=\"dataframe\">\n",
       "  <thead>\n",
       "    <tr style=\"text-align: right;\">\n",
       "      <th></th>\n",
       "      <th>Temperature[C]</th>\n",
       "      <th>Humidity[%]</th>\n",
       "      <th>TVOC[ppb]</th>\n",
       "      <th>eCO2[ppm]</th>\n",
       "      <th>Raw H2</th>\n",
       "      <th>Raw Ethanol</th>\n",
       "      <th>Pressure[hPa]</th>\n",
       "      <th>PM1.0</th>\n",
       "      <th>PM2.5</th>\n",
       "      <th>NC0.5</th>\n",
       "      <th>NC1.0</th>\n",
       "      <th>NC2.5</th>\n",
       "    </tr>\n",
       "    <tr>\n",
       "      <th>Fire Alarm</th>\n",
       "      <th></th>\n",
       "      <th></th>\n",
       "      <th></th>\n",
       "      <th></th>\n",
       "      <th></th>\n",
       "      <th></th>\n",
       "      <th></th>\n",
       "      <th></th>\n",
       "      <th></th>\n",
       "      <th></th>\n",
       "      <th></th>\n",
       "      <th></th>\n",
       "    </tr>\n",
       "  </thead>\n",
       "  <tbody>\n",
       "    <tr>\n",
       "      <th>0</th>\n",
       "      <td>20.54</td>\n",
       "      <td>46.14</td>\n",
       "      <td>86.0</td>\n",
       "      <td>400.0</td>\n",
       "      <td>12837.0</td>\n",
       "      <td>20158.0</td>\n",
       "      <td>937.478</td>\n",
       "      <td>1.45</td>\n",
       "      <td>1.52</td>\n",
       "      <td>9.97</td>\n",
       "      <td>1.578</td>\n",
       "      <td>0.039</td>\n",
       "    </tr>\n",
       "    <tr>\n",
       "      <th>1</th>\n",
       "      <td>20.02</td>\n",
       "      <td>51.40</td>\n",
       "      <td>1103.0</td>\n",
       "      <td>404.0</td>\n",
       "      <td>12933.0</td>\n",
       "      <td>19454.0</td>\n",
       "      <td>938.878</td>\n",
       "      <td>1.87</td>\n",
       "      <td>1.94</td>\n",
       "      <td>12.86</td>\n",
       "      <td>2.005</td>\n",
       "      <td>0.045</td>\n",
       "    </tr>\n",
       "  </tbody>\n",
       "</table>\n",
       "</div>"
      ],
      "text/plain": [
       "            Temperature[C]  Humidity[%]  TVOC[ppb]  eCO2[ppm]   Raw H2  \\\n",
       "Fire Alarm                                                               \n",
       "0                    20.54        46.14       86.0      400.0  12837.0   \n",
       "1                    20.02        51.40     1103.0      404.0  12933.0   \n",
       "\n",
       "            Raw Ethanol  Pressure[hPa]  PM1.0  PM2.5  NC0.5  NC1.0  NC2.5  \n",
       "Fire Alarm                                                                 \n",
       "0               20158.0        937.478   1.45   1.52   9.97  1.578  0.039  \n",
       "1               19454.0        938.878   1.87   1.94  12.86  2.005  0.045  "
      ]
     },
     "execution_count": 11,
     "metadata": {},
     "output_type": "execute_result"
    }
   ],
   "source": [
    "# Look at medians for different predictor variables\n",
    "data.groupby('Fire Alarm')[predictors].median()"
   ]
  },
  {
   "cell_type": "markdown",
   "id": "5a759300-44f0-40e6-931f-c5940b1609b0",
   "metadata": {},
   "source": [
    "## Posterior Marginal Probability Distributions  "
   ]
  },
  {
   "cell_type": "code",
   "execution_count": 12,
   "id": "a6b83921-3398-4302-8f5c-66fc9cc89f70",
   "metadata": {},
   "outputs": [],
   "source": [
    "cols = data.columns[:-1]\n",
    "\n",
    "#Scale the data\n",
    "for i in cols:\n",
    "    data[i] = (data[i] - np.mean(data[i]))/np.std(data[i])\n",
    "\n",
    "#Separate the Fires from the no Fires \n",
    "fire = data[data['Fire Alarm']==1]\n",
    "nofire = data[data['Fire Alarm']==0]\n",
    "\n",
    "a0=13\n",
    "v=1\n",
    "muprior = 0\n",
    "xbar = []\n",
    "\n",
    "#Get the posterior mean for variables with no fire\n",
    "for i in cols:\n",
    "    xbar.append(np.mean(nofire[i]))\n",
    "\n",
    "mupost = []\n",
    "for i in xbar:\n",
    "    mupost.append((v*muprior + len(nofire)*i)/(v+len(nofire)))\n",
    "\n",
    "#Get the posterior mean for variables with fire \n",
    "xbarfire = []\n",
    "for i in cols:\n",
    "    xbarfire.append(np.mean(fire[i]))\n",
    "    \n",
    "mupostfire = []\n",
    "for i in xbarfire:\n",
    "    mupostfire.append((v*muprior + len(fire)*i)/(v+len(fire)))"
   ]
  },
  {
   "cell_type": "code",
   "execution_count": 13,
   "id": "50c67372-b670-427b-acbe-5565f3fe14cf",
   "metadata": {},
   "outputs": [],
   "source": [
    "rprior = np.identity(12)\n",
    "\n",
    "sneg = nofire.copy(deep=True)\n",
    "for i in range(len(cols)):\n",
    "    sneg[cols[i]] = sneg[cols[i]] - xbar[i]\n",
    "del sneg['Fire Alarm']\n",
    "sneg = sneg.to_numpy()\n",
    "smatneg = np.zeros((12,12))\n",
    "for i in range(len(nofire)):\n",
    "    smatneg += np.multiply(np.matrix(sneg[i]), np.transpose(np.matrix(sneg[i])))\n",
    "matneg = np.multiply(muprior-np.matrix(xbar), np.transpose(muprior-np.matrix(xbar)))\n",
    "rpostneg = rprior + smatneg+ (v*len(nofire)/(v+len(nofire)))*matneg\n",
    "\n",
    "\n",
    "spos = fire.copy(deep=True)\n",
    "for i in range(len(cols)):\n",
    "    spos[cols[i]] = spos[cols[i]] - xbarfire[i]\n",
    "del spos['Fire Alarm']\n",
    "spos = spos.to_numpy()\n",
    "smatpos = np.zeros((12,12))\n",
    "for i in range(len(fire)):\n",
    "    smatpos += np.multiply(np.matrix(spos[i]), np.transpose(np.matrix(spos[i])))\n",
    "matpos = np.multiply(muprior-np.matrix(xbarfire), np.transpose(muprior-np.matrix(xbarfire)))\n",
    "rpostpos = rprior + smatpos+ (v*len(fire)/(v+len(fire)))*matpos"
   ]
  },
  {
   "cell_type": "code",
   "execution_count": 14,
   "id": "073700ca-3f64-4395-ab27-80c90aae5e29",
   "metadata": {},
   "outputs": [
    {
     "data": {
      "text/html": [
       "<div>\n",
       "<style scoped>\n",
       "    .dataframe tbody tr th:only-of-type {\n",
       "        vertical-align: middle;\n",
       "    }\n",
       "\n",
       "    .dataframe tbody tr th {\n",
       "        vertical-align: top;\n",
       "    }\n",
       "\n",
       "    .dataframe thead th {\n",
       "        text-align: right;\n",
       "    }\n",
       "</style>\n",
       "<table border=\"1\" class=\"dataframe\">\n",
       "  <thead>\n",
       "    <tr style=\"text-align: right;\">\n",
       "      <th></th>\n",
       "      <th>Variables</th>\n",
       "      <th>Post Mean Fire</th>\n",
       "      <th>Post Mean No Fire</th>\n",
       "    </tr>\n",
       "  </thead>\n",
       "  <tbody>\n",
       "    <tr>\n",
       "      <th>0</th>\n",
       "      <td>Temperature[C]</td>\n",
       "      <td>-0.103572</td>\n",
       "      <td>0.259353</td>\n",
       "    </tr>\n",
       "    <tr>\n",
       "      <th>1</th>\n",
       "      <td>Humidity[%]</td>\n",
       "      <td>0.252669</td>\n",
       "      <td>-0.632704</td>\n",
       "    </tr>\n",
       "    <tr>\n",
       "      <th>2</th>\n",
       "      <td>TVOC[ppb]</td>\n",
       "      <td>-0.135700</td>\n",
       "      <td>0.339803</td>\n",
       "    </tr>\n",
       "    <tr>\n",
       "      <th>3</th>\n",
       "      <td>eCO2[ppm]</td>\n",
       "      <td>-0.061300</td>\n",
       "      <td>0.153499</td>\n",
       "    </tr>\n",
       "    <tr>\n",
       "      <th>4</th>\n",
       "      <td>Raw H2</td>\n",
       "      <td>0.067619</td>\n",
       "      <td>-0.169324</td>\n",
       "    </tr>\n",
       "    <tr>\n",
       "      <th>5</th>\n",
       "      <td>Raw Ethanol</td>\n",
       "      <td>-0.215263</td>\n",
       "      <td>0.539037</td>\n",
       "    </tr>\n",
       "    <tr>\n",
       "      <th>6</th>\n",
       "      <td>Pressure[hPa]</td>\n",
       "      <td>0.157850</td>\n",
       "      <td>-0.395271</td>\n",
       "    </tr>\n",
       "    <tr>\n",
       "      <th>7</th>\n",
       "      <td>PM1.0</td>\n",
       "      <td>-0.069859</td>\n",
       "      <td>0.174934</td>\n",
       "    </tr>\n",
       "    <tr>\n",
       "      <th>8</th>\n",
       "      <td>PM2.5</td>\n",
       "      <td>-0.053660</td>\n",
       "      <td>0.134369</td>\n",
       "    </tr>\n",
       "    <tr>\n",
       "      <th>9</th>\n",
       "      <td>NC0.5</td>\n",
       "      <td>-0.080960</td>\n",
       "      <td>0.202730</td>\n",
       "    </tr>\n",
       "    <tr>\n",
       "      <th>10</th>\n",
       "      <td>NC1.0</td>\n",
       "      <td>-0.052340</td>\n",
       "      <td>0.131064</td>\n",
       "    </tr>\n",
       "    <tr>\n",
       "      <th>11</th>\n",
       "      <td>NC2.5</td>\n",
       "      <td>-0.036466</td>\n",
       "      <td>0.091314</td>\n",
       "    </tr>\n",
       "  </tbody>\n",
       "</table>\n",
       "</div>"
      ],
      "text/plain": [
       "         Variables  Post Mean Fire  Post Mean No Fire\n",
       "0   Temperature[C]       -0.103572           0.259353\n",
       "1      Humidity[%]        0.252669          -0.632704\n",
       "2        TVOC[ppb]       -0.135700           0.339803\n",
       "3        eCO2[ppm]       -0.061300           0.153499\n",
       "4           Raw H2        0.067619          -0.169324\n",
       "5      Raw Ethanol       -0.215263           0.539037\n",
       "6    Pressure[hPa]        0.157850          -0.395271\n",
       "7            PM1.0       -0.069859           0.174934\n",
       "8            PM2.5       -0.053660           0.134369\n",
       "9            NC0.5       -0.080960           0.202730\n",
       "10           NC1.0       -0.052340           0.131064\n",
       "11           NC2.5       -0.036466           0.091314"
      ]
     },
     "execution_count": 14,
     "metadata": {},
     "output_type": "execute_result"
    }
   ],
   "source": [
    "rinv = (1/len(nofire)+1/len(fire))*((len(nofire)-1)*np.linalg.inv(rpostneg) + \n",
    "                                   (len(fire)-1)*np.linalg.inv(rpostpos)) / (len(nofire)+len(fire)-2)\n",
    "rpooled = np.linalg.inv(rinv)\n",
    "D = abs(np.matrix(mupost) - np.matrix(mupostfire))\n",
    "Tsq = D * rpooled * np.transpose(D)\n",
    "pd.DataFrame({'Variables':cols,\n",
    "             'Post Mean Fire':mupostfire,\n",
    "             'Post Mean No Fire':mupost})"
   ]
  },
  {
   "cell_type": "markdown",
   "id": "c9f86cb7-7b46-453a-8adf-17e1cc0c700d",
   "metadata": {},
   "source": [
    "#### The two groups of posterior means are shown above. You can see that at every variable there is a pretty large difference. This indicates that it could be helfpul to determine the factors that predict the presence of a fire. "
   ]
  },
  {
   "cell_type": "code",
   "execution_count": 15,
   "id": "45e9f5c3-09a3-4ad7-9d23-d181a8aa8d93",
   "metadata": {},
   "outputs": [
    {
     "data": {
      "text/plain": [
       "22598.74294476735"
      ]
     },
     "execution_count": 15,
     "metadata": {},
     "output_type": "execute_result"
    }
   ],
   "source": [
    "import math\n",
    "math.sqrt(abs(Tsq))"
   ]
  },
  {
   "cell_type": "markdown",
   "id": "2cfc0f71-8b1c-4398-935c-35fbffae3211",
   "metadata": {},
   "source": [
    "#### The T-score that we get is very large and this makes sense because we saw in the table above that the posterior means are quite different at each variable so it would make sense to reject equal mean vectors."
   ]
  },
  {
   "cell_type": "markdown",
   "id": "453dcbde-e4e5-4416-ae17-5c8cbe0f759d",
   "metadata": {},
   "source": [
    "## Main Effects Logistic Regression Model (Hamiltonian Monte Carlo)"
   ]
  },
  {
   "cell_type": "code",
   "execution_count": 16,
   "id": "e4e817dd-28a1-4c85-8831-71928d803104",
   "metadata": {},
   "outputs": [
    {
     "name": "stderr",
     "output_type": "stream",
     "text": [
      "/Users/juliaburek/opt/anaconda3/lib/python3.9/site-packages/pkg_resources/__init__.py:123: PkgResourcesDeprecationWarning: 4.0.0-unsupported is an invalid version and will not be supported in a future release\n",
      "  warnings.warn(\n"
     ]
    }
   ],
   "source": [
    "import pymc as pm\n",
    "from pymc import Model, sample, Normal, HalfCauchy, Uniform, model_to_graphviz"
   ]
  },
  {
   "cell_type": "code",
   "execution_count": 17,
   "id": "74257c37-3a75-4a7f-899d-c810ce17bbb8",
   "metadata": {},
   "outputs": [
    {
     "name": "stderr",
     "output_type": "stream",
     "text": [
      "Auto-assigning NUTS sampler...\n",
      "Initializing NUTS using jitter+adapt_diag...\n",
      "Multiprocess sampling (8 chains in 8 jobs)\n",
      "NUTS: [beta_0, beta]\n",
      "/Users/juliaburek/opt/anaconda3/lib/python3.9/site-packages/pkg_resources/__init__.py:123: PkgResourcesDeprecationWarning: 4.0.0-unsupported is an invalid version and will not be supported in a future release\n",
      "  warnings.warn(\n",
      "/Users/juliaburek/opt/anaconda3/lib/python3.9/site-packages/pkg_resources/__init__.py:123: PkgResourcesDeprecationWarning: 4.0.0-unsupported is an invalid version and will not be supported in a future release\n",
      "  warnings.warn(\n",
      "/Users/juliaburek/opt/anaconda3/lib/python3.9/site-packages/pkg_resources/__init__.py:123: PkgResourcesDeprecationWarning: 4.0.0-unsupported is an invalid version and will not be supported in a future release\n",
      "  warnings.warn(\n",
      "/Users/juliaburek/opt/anaconda3/lib/python3.9/site-packages/pkg_resources/__init__.py:123: PkgResourcesDeprecationWarning: 4.0.0-unsupported is an invalid version and will not be supported in a future release\n",
      "  warnings.warn(\n",
      "/Users/juliaburek/opt/anaconda3/lib/python3.9/site-packages/pkg_resources/__init__.py:123: PkgResourcesDeprecationWarning: 4.0.0-unsupported is an invalid version and will not be supported in a future release\n",
      "  warnings.warn(\n",
      "/Users/juliaburek/opt/anaconda3/lib/python3.9/site-packages/pkg_resources/__init__.py:123: PkgResourcesDeprecationWarning: 4.0.0-unsupported is an invalid version and will not be supported in a future release\n",
      "  warnings.warn(\n",
      "/Users/juliaburek/opt/anaconda3/lib/python3.9/site-packages/pkg_resources/__init__.py:123: PkgResourcesDeprecationWarning: 4.0.0-unsupported is an invalid version and will not be supported in a future release\n",
      "  warnings.warn(\n",
      "/Users/juliaburek/opt/anaconda3/lib/python3.9/site-packages/pkg_resources/__init__.py:123: PkgResourcesDeprecationWarning: 4.0.0-unsupported is an invalid version and will not be supported in a future release\n",
      "  warnings.warn(\n"
     ]
    },
    {
     "data": {
      "text/html": [
       "\n",
       "<style>\n",
       "    /* Turns off some styling */\n",
       "    progress {\n",
       "        /* gets rid of default border in Firefox and Opera. */\n",
       "        border: none;\n",
       "        /* Needs to be in here for Safari polyfill so background images work as expected. */\n",
       "        background-size: auto;\n",
       "    }\n",
       "    progress:not([value]), progress:not([value])::-webkit-progress-bar {\n",
       "        background: repeating-linear-gradient(45deg, #7e7e7e, #7e7e7e 10px, #5c5c5c 10px, #5c5c5c 20px);\n",
       "    }\n",
       "    .progress-bar-interrupted, .progress-bar-interrupted::-webkit-progress-bar {\n",
       "        background: #F44336;\n",
       "    }\n",
       "</style>\n"
      ],
      "text/plain": [
       "<IPython.core.display.HTML object>"
      ]
     },
     "metadata": {},
     "output_type": "display_data"
    },
    {
     "data": {
      "text/html": [
       "\n",
       "    <div>\n",
       "      <progress value='16000' class='' max='16000' style='width:300px; height:20px; vertical-align: middle;'></progress>\n",
       "      100.00% [16000/16000 14:06&lt;00:00 Sampling 8 chains, 0 divergences]\n",
       "    </div>\n",
       "    "
      ],
      "text/plain": [
       "<IPython.core.display.HTML object>"
      ]
     },
     "metadata": {},
     "output_type": "display_data"
    },
    {
     "name": "stderr",
     "output_type": "stream",
     "text": [
      "Sampling 8 chains for 1_000 tune and 1_000 draw iterations (8_000 + 8_000 draws total) took 882 seconds.\n"
     ]
    }
   ],
   "source": [
    "import random\n",
    "\n",
    "random.seed(2022)\n",
    "data_samp = data.sample(n=int(data.shape[0] * .1))  # take 10% sample because of run time with full data\n",
    "n = data_samp.shape[0]\n",
    "nums = data_samp[predictors]\n",
    "y = data_samp[\"Fire Alarm\"]\n",
    "k = 12\n",
    "mean = nums.mean()\n",
    "std = nums.std()\n",
    "nums = np.array((nums-mean)/std)\n",
    "\n",
    "with pm.Model() as logistic_model:\n",
    "    beta_0 = pm.Normal('beta_0', mu=0, sigma=1)\n",
    "    beta = pm.MvNormal('beta', mu=np.zeros(k), cov=np.eye(k), shape=k)\n",
    "    mu = pm.math.dot(nums,beta)\n",
    "    p = pm.Deterministic('p', pm.invlogit(mu))\n",
    "    y_pred = pm.Bernoulli('Fire Alarm', p=pm.invlogit(mu), observed=y)\n",
    "    trace_main = pm.sample(1000, cores=8)"
   ]
  },
  {
   "cell_type": "code",
   "execution_count": 18,
   "id": "19570f2a-05b8-418d-8728-cf92907eae7c",
   "metadata": {},
   "outputs": [
    {
     "data": {
      "text/plain": [
       "array([[<AxesSubplot: title={'center': 'beta'}>,\n",
       "        <AxesSubplot: title={'center': 'beta'}>]], dtype=object)"
      ]
     },
     "execution_count": 18,
     "metadata": {},
     "output_type": "execute_result"
    },
    {
     "data": {
      "image/png": "[encoded data removed]",
      "text/plain": [
       "<Figure size 864x144 with 2 Axes>"
      ]
     },
     "metadata": {
      "needs_background": "light"
     },
     "output_type": "display_data"
    }
   ],
   "source": [
    "pm.plot_trace(trace_main, var_names=['beta'])"
   ]
  },
  {
   "cell_type": "markdown",
   "id": "f41d6406-a25d-4dd0-ad54-d48baa691815",
   "metadata": {},
   "source": [
    "We see some convergence for some of the variables, but not for all. This is likely because we had to use 10% of the data."
   ]
  },
  {
   "cell_type": "code",
   "execution_count": 19,
   "id": "e7426391-523a-4a96-b711-f8974054d80a",
   "metadata": {},
   "outputs": [
    {
     "data": {
      "text/html": [
       "<div>\n",
       "<style scoped>\n",
       "    .dataframe tbody tr th:only-of-type {\n",
       "        vertical-align: middle;\n",
       "    }\n",
       "\n",
       "    .dataframe tbody tr th {\n",
       "        vertical-align: top;\n",
       "    }\n",
       "\n",
       "    .dataframe thead th {\n",
       "        text-align: right;\n",
       "    }\n",
       "</style>\n",
       "<table border=\"1\" class=\"dataframe\">\n",
       "  <thead>\n",
       "    <tr style=\"text-align: right;\">\n",
       "      <th></th>\n",
       "      <th>mean</th>\n",
       "      <th>sd</th>\n",
       "      <th>hdi_3%</th>\n",
       "      <th>hdi_97%</th>\n",
       "      <th>mcse_mean</th>\n",
       "      <th>mcse_sd</th>\n",
       "      <th>ess_bulk</th>\n",
       "      <th>ess_tail</th>\n",
       "      <th>r_hat</th>\n",
       "    </tr>\n",
       "  </thead>\n",
       "  <tbody>\n",
       "    <tr>\n",
       "      <th>beta_0</th>\n",
       "      <td>0.008</td>\n",
       "      <td>1.003</td>\n",
       "      <td>-1.888</td>\n",
       "      <td>1.865</td>\n",
       "      <td>0.012</td>\n",
       "      <td>0.012</td>\n",
       "      <td>7287.0</td>\n",
       "      <td>4393.0</td>\n",
       "      <td>1.0</td>\n",
       "    </tr>\n",
       "    <tr>\n",
       "      <th>beta[0]</th>\n",
       "      <td>-0.892</td>\n",
       "      <td>0.065</td>\n",
       "      <td>-1.023</td>\n",
       "      <td>-0.774</td>\n",
       "      <td>0.001</td>\n",
       "      <td>0.001</td>\n",
       "      <td>6999.0</td>\n",
       "      <td>5337.0</td>\n",
       "      <td>1.0</td>\n",
       "    </tr>\n",
       "    <tr>\n",
       "      <th>beta[1]</th>\n",
       "      <td>1.304</td>\n",
       "      <td>0.097</td>\n",
       "      <td>1.125</td>\n",
       "      <td>1.485</td>\n",
       "      <td>0.001</td>\n",
       "      <td>0.001</td>\n",
       "      <td>4398.0</td>\n",
       "      <td>4972.0</td>\n",
       "      <td>1.0</td>\n",
       "    </tr>\n",
       "    <tr>\n",
       "      <th>beta[2]</th>\n",
       "      <td>-12.870</td>\n",
       "      <td>0.398</td>\n",
       "      <td>-13.645</td>\n",
       "      <td>-12.149</td>\n",
       "      <td>0.006</td>\n",
       "      <td>0.004</td>\n",
       "      <td>4016.0</td>\n",
       "      <td>4765.0</td>\n",
       "      <td>1.0</td>\n",
       "    </tr>\n",
       "    <tr>\n",
       "      <th>beta[3]</th>\n",
       "      <td>4.085</td>\n",
       "      <td>0.455</td>\n",
       "      <td>3.238</td>\n",
       "      <td>4.881</td>\n",
       "      <td>0.007</td>\n",
       "      <td>0.005</td>\n",
       "      <td>4728.0</td>\n",
       "      <td>4342.0</td>\n",
       "      <td>1.0</td>\n",
       "    </tr>\n",
       "    <tr>\n",
       "      <th>beta[4]</th>\n",
       "      <td>2.759</td>\n",
       "      <td>0.119</td>\n",
       "      <td>2.544</td>\n",
       "      <td>2.996</td>\n",
       "      <td>0.002</td>\n",
       "      <td>0.001</td>\n",
       "      <td>3517.0</td>\n",
       "      <td>4371.0</td>\n",
       "      <td>1.0</td>\n",
       "    </tr>\n",
       "    <tr>\n",
       "      <th>beta[5]</th>\n",
       "      <td>-6.411</td>\n",
       "      <td>0.184</td>\n",
       "      <td>-6.755</td>\n",
       "      <td>-6.070</td>\n",
       "      <td>0.003</td>\n",
       "      <td>0.002</td>\n",
       "      <td>3446.0</td>\n",
       "      <td>4389.0</td>\n",
       "      <td>1.0</td>\n",
       "    </tr>\n",
       "    <tr>\n",
       "      <th>beta[6]</th>\n",
       "      <td>-1.932</td>\n",
       "      <td>0.093</td>\n",
       "      <td>-2.105</td>\n",
       "      <td>-1.755</td>\n",
       "      <td>0.001</td>\n",
       "      <td>0.001</td>\n",
       "      <td>3845.0</td>\n",
       "      <td>4930.0</td>\n",
       "      <td>1.0</td>\n",
       "    </tr>\n",
       "    <tr>\n",
       "      <th>beta[7]</th>\n",
       "      <td>-0.337</td>\n",
       "      <td>0.851</td>\n",
       "      <td>-1.992</td>\n",
       "      <td>1.238</td>\n",
       "      <td>0.013</td>\n",
       "      <td>0.010</td>\n",
       "      <td>4633.0</td>\n",
       "      <td>4542.0</td>\n",
       "      <td>1.0</td>\n",
       "    </tr>\n",
       "    <tr>\n",
       "      <th>beta[8]</th>\n",
       "      <td>-0.105</td>\n",
       "      <td>0.872</td>\n",
       "      <td>-1.741</td>\n",
       "      <td>1.517</td>\n",
       "      <td>0.012</td>\n",
       "      <td>0.011</td>\n",
       "      <td>5365.0</td>\n",
       "      <td>4701.0</td>\n",
       "      <td>1.0</td>\n",
       "    </tr>\n",
       "    <tr>\n",
       "      <th>beta[9]</th>\n",
       "      <td>-0.565</td>\n",
       "      <td>0.597</td>\n",
       "      <td>-1.693</td>\n",
       "      <td>0.524</td>\n",
       "      <td>0.009</td>\n",
       "      <td>0.007</td>\n",
       "      <td>4216.0</td>\n",
       "      <td>4049.0</td>\n",
       "      <td>1.0</td>\n",
       "    </tr>\n",
       "    <tr>\n",
       "      <th>beta[10]</th>\n",
       "      <td>-0.088</td>\n",
       "      <td>0.862</td>\n",
       "      <td>-1.643</td>\n",
       "      <td>1.580</td>\n",
       "      <td>0.012</td>\n",
       "      <td>0.010</td>\n",
       "      <td>5208.0</td>\n",
       "      <td>4946.0</td>\n",
       "      <td>1.0</td>\n",
       "    </tr>\n",
       "    <tr>\n",
       "      <th>beta[11]</th>\n",
       "      <td>0.108</td>\n",
       "      <td>0.711</td>\n",
       "      <td>-1.251</td>\n",
       "      <td>1.426</td>\n",
       "      <td>0.011</td>\n",
       "      <td>0.008</td>\n",
       "      <td>4420.0</td>\n",
       "      <td>4837.0</td>\n",
       "      <td>1.0</td>\n",
       "    </tr>\n",
       "  </tbody>\n",
       "</table>\n",
       "</div>"
      ],
      "text/plain": [
       "            mean     sd  hdi_3%  hdi_97%  mcse_mean  mcse_sd  ess_bulk  \\\n",
       "beta_0     0.008  1.003  -1.888    1.865      0.012    0.012    7287.0   \n",
       "beta[0]   -0.892  0.065  -1.023   -0.774      0.001    0.001    6999.0   \n",
       "beta[1]    1.304  0.097   1.125    1.485      0.001    0.001    4398.0   \n",
       "beta[2]  -12.870  0.398 -13.645  -12.149      0.006    0.004    4016.0   \n",
       "beta[3]    4.085  0.455   3.238    4.881      0.007    0.005    4728.0   \n",
       "beta[4]    2.759  0.119   2.544    2.996      0.002    0.001    3517.0   \n",
       "beta[5]   -6.411  0.184  -6.755   -6.070      0.003    0.002    3446.0   \n",
       "beta[6]   -1.932  0.093  -2.105   -1.755      0.001    0.001    3845.0   \n",
       "beta[7]   -0.337  0.851  -1.992    1.238      0.013    0.010    4633.0   \n",
       "beta[8]   -0.105  0.872  -1.741    1.517      0.012    0.011    5365.0   \n",
       "beta[9]   -0.565  0.597  -1.693    0.524      0.009    0.007    4216.0   \n",
       "beta[10]  -0.088  0.862  -1.643    1.580      0.012    0.010    5208.0   \n",
       "beta[11]   0.108  0.711  -1.251    1.426      0.011    0.008    4420.0   \n",
       "\n",
       "          ess_tail  r_hat  \n",
       "beta_0      4393.0    1.0  \n",
       "beta[0]     5337.0    1.0  \n",
       "beta[1]     4972.0    1.0  \n",
       "beta[2]     4765.0    1.0  \n",
       "beta[3]     4342.0    1.0  \n",
       "beta[4]     4371.0    1.0  \n",
       "beta[5]     4389.0    1.0  \n",
       "beta[6]     4930.0    1.0  \n",
       "beta[7]     4542.0    1.0  \n",
       "beta[8]     4701.0    1.0  \n",
       "beta[9]     4049.0    1.0  \n",
       "beta[10]    4946.0    1.0  \n",
       "beta[11]    4837.0    1.0  "
      ]
     },
     "execution_count": 19,
     "metadata": {},
     "output_type": "execute_result"
    }
   ],
   "source": [
    "import arviz as az\n",
    "az.summary(trace_main, var_names=['beta_0','beta'])"
   ]
  },
  {
   "cell_type": "markdown",
   "id": "67355408-7802-4988-8a5f-dcf22b7e7bfd",
   "metadata": {},
   "source": [
    "### Accuracy of HMC Model"
   ]
  },
  {
   "cell_type": "code",
   "execution_count": 20,
   "id": "e0111244-ebe6-4a85-b014-411186e19641",
   "metadata": {},
   "outputs": [
    {
     "name": "stderr",
     "output_type": "stream",
     "text": [
      "Sampling: [Fire Alarm]\n"
     ]
    },
    {
     "data": {
      "text/html": [
       "\n",
       "<style>\n",
       "    /* Turns off some styling */\n",
       "    progress {\n",
       "        /* gets rid of default border in Firefox and Opera. */\n",
       "        border: none;\n",
       "        /* Needs to be in here for Safari polyfill so background images work as expected. */\n",
       "        background-size: auto;\n",
       "    }\n",
       "    progress:not([value]), progress:not([value])::-webkit-progress-bar {\n",
       "        background: repeating-linear-gradient(45deg, #7e7e7e, #7e7e7e 10px, #5c5c5c 10px, #5c5c5c 20px);\n",
       "    }\n",
       "    .progress-bar-interrupted, .progress-bar-interrupted::-webkit-progress-bar {\n",
       "        background: #F44336;\n",
       "    }\n",
       "</style>\n"
      ],
      "text/plain": [
       "<IPython.core.display.HTML object>"
      ]
     },
     "metadata": {},
     "output_type": "display_data"
    },
    {
     "data": {
      "text/html": [
       "\n",
       "    <div>\n",
       "      <progress value='8000' class='' max='8000' style='width:300px; height:20px; vertical-align: middle;'></progress>\n",
       "      100.00% [8000/8000 00:03&lt;00:00]\n",
       "    </div>\n",
       "    "
      ],
      "text/plain": [
       "<IPython.core.display.HTML object>"
      ]
     },
     "metadata": {},
     "output_type": "display_data"
    },
    {
     "data": {
      "text/plain": [
       "0.8982915535685774"
      ]
     },
     "execution_count": 20,
     "metadata": {},
     "output_type": "execute_result"
    }
   ],
   "source": [
    "from sklearn.metrics import accuracy_score\n",
    "ppc = pm.sample_posterior_predictive(trace_main, model=logistic_model)\n",
    "pred_hmc = ppc['posterior_predictive']['Fire Alarm'].mean(axis=0)\n",
    "y_test_pred = (pred_hmc >= 0.5).astype(\"int\")\n",
    "hmc = accuracy_score(data_samp['Fire Alarm'], y_test_pred[900])\n",
    "hmc"
   ]
  },
  {
   "cell_type": "markdown",
   "id": "24ad5460-cd0e-41c8-afc7-8a682e3cfb11",
   "metadata": {},
   "source": [
    "## ADVI Model (Full)"
   ]
  },
  {
   "cell_type": "code",
   "execution_count": 21,
   "id": "4130033e-3327-46c0-b42d-9400b1f2e7f4",
   "metadata": {},
   "outputs": [
    {
     "data": {
      "image/svg+xml": [
       "<?xml version=\"1.0\" encoding=\"UTF-8\" standalone=\"no\"?>\n",
       "<!DOCTYPE svg PUBLIC \"-//W3C//DTD SVG 1.1//EN\"\n",
       " \"http://www.w3.org/Graphics/SVG/1.1/DTD/svg11.dtd\">\n",
       "<!-- Generated by graphviz version 2.50.0 (0)\n",
       " -->\n",
       "<!-- Pages: 1 -->\n",
       "<svg width=\"236pt\" height=\"260pt\"\n",
       " viewBox=\"0.00 0.00 235.72 259.91\" xmlns=\"http://www.w3.org/2000/svg\" xmlns:xlink=\"http://www.w3.org/1999/xlink\">\n",
       "<g id=\"graph0\" class=\"graph\" transform=\"scale(1 1) rotate(0) translate(4 255.91)\">\n",
       "<polygon fill=\"white\" stroke=\"transparent\" points=\"-4,4 -4,-255.91 231.72,-255.91 231.72,4 -4,4\"/>\n",
       "<g id=\"clust1\" class=\"cluster\">\n",
       "<title>cluster12</title>\n",
       "<path fill=\"none\" stroke=\"black\" d=\"M105.72,-129.95C105.72,-129.95 207.72,-129.95 207.72,-129.95 213.72,-129.95 219.72,-135.95 219.72,-141.95 219.72,-141.95 219.72,-231.91 219.72,-231.91 219.72,-237.91 213.72,-243.91 207.72,-243.91 207.72,-243.91 105.72,-243.91 105.72,-243.91 99.72,-243.91 93.72,-237.91 93.72,-231.91 93.72,-231.91 93.72,-141.95 93.72,-141.95 93.72,-135.95 99.72,-129.95 105.72,-129.95\"/>\n",
       "<text text-anchor=\"middle\" x=\"204.72\" y=\"-137.75\" font-family=\"Times,serif\" font-size=\"14.00\">12</text>\n",
       "</g>\n",
       "<g id=\"clust2\" class=\"cluster\">\n",
       "<title>cluster62630</title>\n",
       "<path fill=\"none\" stroke=\"black\" d=\"M48.72,-8C48.72,-8 148.72,-8 148.72,-8 154.72,-8 160.72,-14 160.72,-20 160.72,-20 160.72,-109.95 160.72,-109.95 160.72,-115.95 154.72,-121.95 148.72,-121.95 148.72,-121.95 48.72,-121.95 48.72,-121.95 42.72,-121.95 36.72,-115.95 36.72,-109.95 36.72,-109.95 36.72,-20 36.72,-20 36.72,-14 42.72,-8 48.72,-8\"/>\n",
       "<text text-anchor=\"middle\" x=\"135.72\" y=\"-15.8\" font-family=\"Times,serif\" font-size=\"14.00\">62630</text>\n",
       "</g>\n",
       "<!-- beta_0 -->\n",
       "<g id=\"node1\" class=\"node\">\n",
       "<title>beta_0</title>\n",
       "<ellipse fill=\"none\" stroke=\"black\" cx=\"41.72\" cy=\"-198.43\" rx=\"41.94\" ry=\"37.45\"/>\n",
       "<text text-anchor=\"middle\" x=\"41.72\" y=\"-209.73\" font-family=\"Times,serif\" font-size=\"14.00\">beta_0</text>\n",
       "<text text-anchor=\"middle\" x=\"41.72\" y=\"-194.73\" font-family=\"Times,serif\" font-size=\"14.00\">~</text>\n",
       "<text text-anchor=\"middle\" x=\"41.72\" y=\"-179.73\" font-family=\"Times,serif\" font-size=\"14.00\">Normal</text>\n",
       "</g>\n",
       "<!-- Fire Alarm -->\n",
       "<g id=\"node3\" class=\"node\">\n",
       "<title>Fire Alarm</title>\n",
       "<ellipse fill=\"lightgrey\" stroke=\"black\" cx=\"98.72\" cy=\"-76.48\" rx=\"54.39\" ry=\"37.45\"/>\n",
       "<text text-anchor=\"middle\" x=\"98.72\" y=\"-87.78\" font-family=\"Times,serif\" font-size=\"14.00\">Fire Alarm</text>\n",
       "<text text-anchor=\"middle\" x=\"98.72\" y=\"-72.78\" font-family=\"Times,serif\" font-size=\"14.00\">~</text>\n",
       "<text text-anchor=\"middle\" x=\"98.72\" y=\"-57.78\" font-family=\"Times,serif\" font-size=\"14.00\">Bernoulli</text>\n",
       "</g>\n",
       "<!-- beta_0&#45;&gt;Fire Alarm -->\n",
       "<g id=\"edge2\" class=\"edge\">\n",
       "<title>beta_0&#45;&gt;Fire Alarm</title>\n",
       "<path fill=\"none\" stroke=\"black\" d=\"M57.75,-163.7C63.96,-150.63 71.15,-135.5 77.75,-121.6\"/>\n",
       "<polygon fill=\"black\" stroke=\"black\" points=\"81.09,-122.74 82.22,-112.21 74.76,-119.74 81.09,-122.74\"/>\n",
       "</g>\n",
       "<!-- beta -->\n",
       "<g id=\"node2\" class=\"node\">\n",
       "<title>beta</title>\n",
       "<ellipse fill=\"none\" stroke=\"black\" cx=\"156.72\" cy=\"-198.43\" rx=\"55.31\" ry=\"37.45\"/>\n",
       "<text text-anchor=\"middle\" x=\"156.72\" y=\"-209.73\" font-family=\"Times,serif\" font-size=\"14.00\">beta</text>\n",
       "<text text-anchor=\"middle\" x=\"156.72\" y=\"-194.73\" font-family=\"Times,serif\" font-size=\"14.00\">~</text>\n",
       "<text text-anchor=\"middle\" x=\"156.72\" y=\"-179.73\" font-family=\"Times,serif\" font-size=\"14.00\">MvNormal</text>\n",
       "</g>\n",
       "<!-- beta&#45;&gt;Fire Alarm -->\n",
       "<g id=\"edge1\" class=\"edge\">\n",
       "<title>beta&#45;&gt;Fire Alarm</title>\n",
       "<path fill=\"none\" stroke=\"black\" d=\"M139.79,-162.41C133.59,-149.6 126.51,-134.94 119.98,-121.45\"/>\n",
       "<polygon fill=\"black\" stroke=\"black\" points=\"123.08,-119.81 115.57,-112.33 116.77,-122.86 123.08,-119.81\"/>\n",
       "</g>\n",
       "</g>\n",
       "</svg>\n"
      ],
      "text/plain": [
       "<graphviz.graphs.Digraph at 0x7f883f50aca0>"
      ]
     },
     "execution_count": 21,
     "metadata": {},
     "output_type": "execute_result"
    }
   ],
   "source": [
    "n = data.shape[0]\n",
    "nums = data[predictors]\n",
    "y = data[\"Fire Alarm\"]\n",
    "k = 12\n",
    "mean = nums.mean()\n",
    "std = nums.std()\n",
    "nums = np.array((nums-mean)/std)\n",
    "\n",
    "with pm.Model() as advi:\n",
    "    beta_0 = pm.Normal('beta_0', mu=0, sigma=1)\n",
    "    beta = pm.MvNormal('beta', mu=np.zeros(k), cov=np.eye(k), shape=k)\n",
    "    mu = pm.math.dot(nums,beta) + beta_0\n",
    "    y_pred = pm.Bernoulli('Fire Alarm', p=pm.invlogit(mu), observed=y)\n",
    "pm.model_to_graphviz(advi)"
   ]
  },
  {
   "cell_type": "code",
   "execution_count": 22,
   "id": "fc8df22a-92f6-4592-80c7-33ed1afd16d7",
   "metadata": {},
   "outputs": [
    {
     "data": {
      "text/html": [
       "\n",
       "<style>\n",
       "    /* Turns off some styling */\n",
       "    progress {\n",
       "        /* gets rid of default border in Firefox and Opera. */\n",
       "        border: none;\n",
       "        /* Needs to be in here for Safari polyfill so background images work as expected. */\n",
       "        background-size: auto;\n",
       "    }\n",
       "    progress:not([value]), progress:not([value])::-webkit-progress-bar {\n",
       "        background: repeating-linear-gradient(45deg, #7e7e7e, #7e7e7e 10px, #5c5c5c 10px, #5c5c5c 20px);\n",
       "    }\n",
       "    .progress-bar-interrupted, .progress-bar-interrupted::-webkit-progress-bar {\n",
       "        background: #F44336;\n",
       "    }\n",
       "</style>\n"
      ],
      "text/plain": [
       "<IPython.core.display.HTML object>"
      ]
     },
     "metadata": {},
     "output_type": "display_data"
    },
    {
     "data": {
      "text/html": [
       "\n",
       "    <div>\n",
       "      <progress value='10000' class='' max='10000' style='width:300px; height:20px; vertical-align: middle;'></progress>\n",
       "      100.00% [10000/10000 00:33&lt;00:00 Average Loss = 18,919]\n",
       "    </div>\n",
       "    "
      ],
      "text/plain": [
       "<IPython.core.display.HTML object>"
      ]
     },
     "metadata": {},
     "output_type": "display_data"
    },
    {
     "name": "stderr",
     "output_type": "stream",
     "text": [
      "Finished [100%]: Average Loss = 18,921\n"
     ]
    }
   ],
   "source": [
    "with advi:\n",
    "    advi_fit = pm.fit(10000, method='advi')"
   ]
  },
  {
   "cell_type": "code",
   "execution_count": 23,
   "id": "47d7b641-f231-4d1e-8ffe-8a66d1da48b9",
   "metadata": {},
   "outputs": [
    {
     "data": {
      "image/png": "[encoded data removed]",
      "text/plain": [
       "<Figure size 432x288 with 1 Axes>"
      ]
     },
     "metadata": {
      "needs_background": "light"
     },
     "output_type": "display_data"
    }
   ],
   "source": [
    "elbo = pd.DataFrame({'elbo': -advi_fit.hist, 'n': np.arange(advi_fit.hist.shape[0])})\n",
    "\n",
    "plt.figure()\n",
    "ax = sns.lineplot(y='elbo', x='n', data=elbo)\n",
    "plt.show()"
   ]
  },
  {
   "cell_type": "markdown",
   "id": "3e76d5e6-5fa8-4ffb-8283-6777d545c18e",
   "metadata": {},
   "source": [
    "The ELBO plot shows convergence."
   ]
  },
  {
   "cell_type": "code",
   "execution_count": 24,
   "id": "2d248bb5-25eb-476d-9486-136379ea5226",
   "metadata": {},
   "outputs": [
    {
     "data": {
      "image/png": "[encoded data removed]",
      "text/plain": [
       "<Figure size 432x374.4 with 1 Axes>"
      ]
     },
     "metadata": {
      "needs_background": "light"
     },
     "output_type": "display_data"
    }
   ],
   "source": [
    "advi_trace = advi_fit.sample(10000)\n",
    "with advi:\n",
    "    pm.plot_forest(advi_trace, var_names=['beta'])"
   ]
  },
  {
   "cell_type": "markdown",
   "id": "132805ae-7be6-4668-9668-b1f7a8c7d62f",
   "metadata": {},
   "source": [
    "Some of the predictor variables, specifically many of the particulate matter variables straddle 0, indicating they may not be very significant in predicting the presence of a fire."
   ]
  },
  {
   "cell_type": "code",
   "execution_count": 25,
   "id": "bd31cec7-ffd4-426b-92d3-eae174032567",
   "metadata": {},
   "outputs": [
    {
     "name": "stderr",
     "output_type": "stream",
     "text": [
      "arviz - WARNING - Shape validation failed: input_shape: (1, 10000), minimum_shape: (chains=2, draws=4)\n"
     ]
    },
    {
     "data": {
      "text/html": [
       "<div>\n",
       "<style scoped>\n",
       "    .dataframe tbody tr th:only-of-type {\n",
       "        vertical-align: middle;\n",
       "    }\n",
       "\n",
       "    .dataframe tbody tr th {\n",
       "        vertical-align: top;\n",
       "    }\n",
       "\n",
       "    .dataframe thead th {\n",
       "        text-align: right;\n",
       "    }\n",
       "</style>\n",
       "<table border=\"1\" class=\"dataframe\">\n",
       "  <thead>\n",
       "    <tr style=\"text-align: right;\">\n",
       "      <th></th>\n",
       "      <th>mean</th>\n",
       "      <th>sd</th>\n",
       "      <th>hdi_3%</th>\n",
       "      <th>hdi_97%</th>\n",
       "      <th>mcse_mean</th>\n",
       "      <th>mcse_sd</th>\n",
       "      <th>ess_bulk</th>\n",
       "      <th>ess_tail</th>\n",
       "      <th>r_hat</th>\n",
       "    </tr>\n",
       "  </thead>\n",
       "  <tbody>\n",
       "    <tr>\n",
       "      <th>beta_0</th>\n",
       "      <td>1.152</td>\n",
       "      <td>0.146</td>\n",
       "      <td>0.869</td>\n",
       "      <td>1.419</td>\n",
       "      <td>0.001</td>\n",
       "      <td>0.001</td>\n",
       "      <td>9858.0</td>\n",
       "      <td>9798.0</td>\n",
       "      <td>NaN</td>\n",
       "    </tr>\n",
       "    <tr>\n",
       "      <th>beta[0]</th>\n",
       "      <td>-0.520</td>\n",
       "      <td>0.128</td>\n",
       "      <td>-0.762</td>\n",
       "      <td>-0.281</td>\n",
       "      <td>0.001</td>\n",
       "      <td>0.001</td>\n",
       "      <td>9788.0</td>\n",
       "      <td>9948.0</td>\n",
       "      <td>NaN</td>\n",
       "    </tr>\n",
       "    <tr>\n",
       "      <th>beta[1]</th>\n",
       "      <td>0.914</td>\n",
       "      <td>0.178</td>\n",
       "      <td>0.595</td>\n",
       "      <td>1.268</td>\n",
       "      <td>0.002</td>\n",
       "      <td>0.001</td>\n",
       "      <td>9370.0</td>\n",
       "      <td>9859.0</td>\n",
       "      <td>NaN</td>\n",
       "    </tr>\n",
       "    <tr>\n",
       "      <th>beta[2]</th>\n",
       "      <td>-1.851</td>\n",
       "      <td>0.301</td>\n",
       "      <td>-2.430</td>\n",
       "      <td>-1.279</td>\n",
       "      <td>0.003</td>\n",
       "      <td>0.002</td>\n",
       "      <td>9904.0</td>\n",
       "      <td>9796.0</td>\n",
       "      <td>NaN</td>\n",
       "    </tr>\n",
       "    <tr>\n",
       "      <th>beta[3]</th>\n",
       "      <td>0.265</td>\n",
       "      <td>0.242</td>\n",
       "      <td>-0.176</td>\n",
       "      <td>0.730</td>\n",
       "      <td>0.002</td>\n",
       "      <td>0.002</td>\n",
       "      <td>9649.0</td>\n",
       "      <td>9267.0</td>\n",
       "      <td>NaN</td>\n",
       "    </tr>\n",
       "    <tr>\n",
       "      <th>beta[4]</th>\n",
       "      <td>0.792</td>\n",
       "      <td>0.176</td>\n",
       "      <td>0.457</td>\n",
       "      <td>1.118</td>\n",
       "      <td>0.002</td>\n",
       "      <td>0.001</td>\n",
       "      <td>9785.0</td>\n",
       "      <td>9792.0</td>\n",
       "      <td>NaN</td>\n",
       "    </tr>\n",
       "    <tr>\n",
       "      <th>beta[5]</th>\n",
       "      <td>-2.484</td>\n",
       "      <td>0.256</td>\n",
       "      <td>-2.948</td>\n",
       "      <td>-1.990</td>\n",
       "      <td>0.003</td>\n",
       "      <td>0.002</td>\n",
       "      <td>10148.0</td>\n",
       "      <td>8763.0</td>\n",
       "      <td>NaN</td>\n",
       "    </tr>\n",
       "    <tr>\n",
       "      <th>beta[6]</th>\n",
       "      <td>-0.870</td>\n",
       "      <td>0.177</td>\n",
       "      <td>-1.185</td>\n",
       "      <td>-0.528</td>\n",
       "      <td>0.002</td>\n",
       "      <td>0.001</td>\n",
       "      <td>9945.0</td>\n",
       "      <td>9561.0</td>\n",
       "      <td>NaN</td>\n",
       "    </tr>\n",
       "    <tr>\n",
       "      <th>beta[7]</th>\n",
       "      <td>-0.243</td>\n",
       "      <td>0.300</td>\n",
       "      <td>-0.811</td>\n",
       "      <td>0.318</td>\n",
       "      <td>0.003</td>\n",
       "      <td>0.002</td>\n",
       "      <td>9977.0</td>\n",
       "      <td>9559.0</td>\n",
       "      <td>NaN</td>\n",
       "    </tr>\n",
       "    <tr>\n",
       "      <th>beta[8]</th>\n",
       "      <td>-0.037</td>\n",
       "      <td>0.291</td>\n",
       "      <td>-0.586</td>\n",
       "      <td>0.499</td>\n",
       "      <td>0.003</td>\n",
       "      <td>0.002</td>\n",
       "      <td>9036.0</td>\n",
       "      <td>9182.0</td>\n",
       "      <td>NaN</td>\n",
       "    </tr>\n",
       "    <tr>\n",
       "      <th>beta[9]</th>\n",
       "      <td>-0.458</td>\n",
       "      <td>0.295</td>\n",
       "      <td>-1.016</td>\n",
       "      <td>0.091</td>\n",
       "      <td>0.003</td>\n",
       "      <td>0.002</td>\n",
       "      <td>9790.0</td>\n",
       "      <td>9926.0</td>\n",
       "      <td>NaN</td>\n",
       "    </tr>\n",
       "    <tr>\n",
       "      <th>beta[10]</th>\n",
       "      <td>-0.015</td>\n",
       "      <td>0.283</td>\n",
       "      <td>-0.545</td>\n",
       "      <td>0.521</td>\n",
       "      <td>0.003</td>\n",
       "      <td>0.002</td>\n",
       "      <td>9485.0</td>\n",
       "      <td>9922.0</td>\n",
       "      <td>NaN</td>\n",
       "    </tr>\n",
       "    <tr>\n",
       "      <th>beta[11]</th>\n",
       "      <td>0.210</td>\n",
       "      <td>0.275</td>\n",
       "      <td>-0.316</td>\n",
       "      <td>0.722</td>\n",
       "      <td>0.003</td>\n",
       "      <td>0.002</td>\n",
       "      <td>9925.0</td>\n",
       "      <td>9762.0</td>\n",
       "      <td>NaN</td>\n",
       "    </tr>\n",
       "  </tbody>\n",
       "</table>\n",
       "</div>"
      ],
      "text/plain": [
       "           mean     sd  hdi_3%  hdi_97%  mcse_mean  mcse_sd  ess_bulk  \\\n",
       "beta_0    1.152  0.146   0.869    1.419      0.001    0.001    9858.0   \n",
       "beta[0]  -0.520  0.128  -0.762   -0.281      0.001    0.001    9788.0   \n",
       "beta[1]   0.914  0.178   0.595    1.268      0.002    0.001    9370.0   \n",
       "beta[2]  -1.851  0.301  -2.430   -1.279      0.003    0.002    9904.0   \n",
       "beta[3]   0.265  0.242  -0.176    0.730      0.002    0.002    9649.0   \n",
       "beta[4]   0.792  0.176   0.457    1.118      0.002    0.001    9785.0   \n",
       "beta[5]  -2.484  0.256  -2.948   -1.990      0.003    0.002   10148.0   \n",
       "beta[6]  -0.870  0.177  -1.185   -0.528      0.002    0.001    9945.0   \n",
       "beta[7]  -0.243  0.300  -0.811    0.318      0.003    0.002    9977.0   \n",
       "beta[8]  -0.037  0.291  -0.586    0.499      0.003    0.002    9036.0   \n",
       "beta[9]  -0.458  0.295  -1.016    0.091      0.003    0.002    9790.0   \n",
       "beta[10] -0.015  0.283  -0.545    0.521      0.003    0.002    9485.0   \n",
       "beta[11]  0.210  0.275  -0.316    0.722      0.003    0.002    9925.0   \n",
       "\n",
       "          ess_tail  r_hat  \n",
       "beta_0      9798.0    NaN  \n",
       "beta[0]     9948.0    NaN  \n",
       "beta[1]     9859.0    NaN  \n",
       "beta[2]     9796.0    NaN  \n",
       "beta[3]     9267.0    NaN  \n",
       "beta[4]     9792.0    NaN  \n",
       "beta[5]     8763.0    NaN  \n",
       "beta[6]     9561.0    NaN  \n",
       "beta[7]     9559.0    NaN  \n",
       "beta[8]     9182.0    NaN  \n",
       "beta[9]     9926.0    NaN  \n",
       "beta[10]    9922.0    NaN  \n",
       "beta[11]    9762.0    NaN  "
      ]
     },
     "execution_count": 25,
     "metadata": {},
     "output_type": "execute_result"
    }
   ],
   "source": [
    "import arviz as az\n",
    "az.summary(advi_trace, var_names=['beta_0','beta'])"
   ]
  },
  {
   "cell_type": "markdown",
   "id": "babbc2cd-2584-4017-9093-b8c07b525dc5",
   "metadata": {},
   "source": [
    "### Accuracy of ADVI (full) Model"
   ]
  },
  {
   "cell_type": "code",
   "execution_count": 26,
   "id": "8293c4b6-8214-4fd3-b5cb-d810418a9991",
   "metadata": {},
   "outputs": [
    {
     "name": "stderr",
     "output_type": "stream",
     "text": [
      "Sampling: [Fire Alarm]\n"
     ]
    },
    {
     "data": {
      "text/html": [
       "\n",
       "<style>\n",
       "    /* Turns off some styling */\n",
       "    progress {\n",
       "        /* gets rid of default border in Firefox and Opera. */\n",
       "        border: none;\n",
       "        /* Needs to be in here for Safari polyfill so background images work as expected. */\n",
       "        background-size: auto;\n",
       "    }\n",
       "    progress:not([value]), progress:not([value])::-webkit-progress-bar {\n",
       "        background: repeating-linear-gradient(45deg, #7e7e7e, #7e7e7e 10px, #5c5c5c 10px, #5c5c5c 20px);\n",
       "    }\n",
       "    .progress-bar-interrupted, .progress-bar-interrupted::-webkit-progress-bar {\n",
       "        background: #F44336;\n",
       "    }\n",
       "</style>\n"
      ],
      "text/plain": [
       "<IPython.core.display.HTML object>"
      ]
     },
     "metadata": {},
     "output_type": "display_data"
    },
    {
     "data": {
      "text/html": [
       "\n",
       "    <div>\n",
       "      <progress value='10000' class='' max='10000' style='width:300px; height:20px; vertical-align: middle;'></progress>\n",
       "      100.00% [10000/10000 00:34&lt;00:00]\n",
       "    </div>\n",
       "    "
      ],
      "text/plain": [
       "<IPython.core.display.HTML object>"
      ]
     },
     "metadata": {},
     "output_type": "display_data"
    },
    {
     "data": {
      "text/plain": [
       "0.8065783171004312"
      ]
     },
     "execution_count": 26,
     "metadata": {},
     "output_type": "execute_result"
    }
   ],
   "source": [
    "ppc = pm.sample_posterior_predictive(advi_trace, model=advi)\n",
    "pred_advi = ppc['posterior_predictive']['Fire Alarm'].mean(axis=0)\n",
    "y_test_pred = (pred_advi >= 0.5).astype(\"int\")\n",
    "advi = accuracy_score(data['Fire Alarm'], y_test_pred[5000])\n",
    "advi"
   ]
  },
  {
   "cell_type": "markdown",
   "id": "549bb62e-bd4b-47d3-a0f2-dbe795c47cde",
   "metadata": {},
   "source": [
    "## ADVI Model (Reduced)"
   ]
  },
  {
   "cell_type": "code",
   "execution_count": 27,
   "id": "753db74c-5e1b-4ad3-bbe2-a81895f275a5",
   "metadata": {},
   "outputs": [
    {
     "data": {
      "image/svg+xml": [
       "<?xml version=\"1.0\" encoding=\"UTF-8\" standalone=\"no\"?>\n",
       "<!DOCTYPE svg PUBLIC \"-//W3C//DTD SVG 1.1//EN\"\n",
       " \"http://www.w3.org/Graphics/SVG/1.1/DTD/svg11.dtd\">\n",
       "<!-- Generated by graphviz version 2.50.0 (0)\n",
       " -->\n",
       "<!-- Pages: 1 -->\n",
       "<svg width=\"236pt\" height=\"260pt\"\n",
       " viewBox=\"0.00 0.00 235.72 259.91\" xmlns=\"http://www.w3.org/2000/svg\" xmlns:xlink=\"http://www.w3.org/1999/xlink\">\n",
       "<g id=\"graph0\" class=\"graph\" transform=\"scale(1 1) rotate(0) translate(4 255.91)\">\n",
       "<polygon fill=\"white\" stroke=\"transparent\" points=\"-4,4 -4,-255.91 231.72,-255.91 231.72,4 -4,4\"/>\n",
       "<g id=\"clust1\" class=\"cluster\">\n",
       "<title>cluster10</title>\n",
       "<path fill=\"none\" stroke=\"black\" d=\"M105.72,-129.95C105.72,-129.95 207.72,-129.95 207.72,-129.95 213.72,-129.95 219.72,-135.95 219.72,-141.95 219.72,-141.95 219.72,-231.91 219.72,-231.91 219.72,-237.91 213.72,-243.91 207.72,-243.91 207.72,-243.91 105.72,-243.91 105.72,-243.91 99.72,-243.91 93.72,-237.91 93.72,-231.91 93.72,-231.91 93.72,-141.95 93.72,-141.95 93.72,-135.95 99.72,-129.95 105.72,-129.95\"/>\n",
       "<text text-anchor=\"middle\" x=\"204.72\" y=\"-137.75\" font-family=\"Times,serif\" font-size=\"14.00\">10</text>\n",
       "</g>\n",
       "<g id=\"clust2\" class=\"cluster\">\n",
       "<title>cluster62630</title>\n",
       "<path fill=\"none\" stroke=\"black\" d=\"M48.72,-8C48.72,-8 148.72,-8 148.72,-8 154.72,-8 160.72,-14 160.72,-20 160.72,-20 160.72,-109.95 160.72,-109.95 160.72,-115.95 154.72,-121.95 148.72,-121.95 148.72,-121.95 48.72,-121.95 48.72,-121.95 42.72,-121.95 36.72,-115.95 36.72,-109.95 36.72,-109.95 36.72,-20 36.72,-20 36.72,-14 42.72,-8 48.72,-8\"/>\n",
       "<text text-anchor=\"middle\" x=\"135.72\" y=\"-15.8\" font-family=\"Times,serif\" font-size=\"14.00\">62630</text>\n",
       "</g>\n",
       "<!-- beta_0 -->\n",
       "<g id=\"node1\" class=\"node\">\n",
       "<title>beta_0</title>\n",
       "<ellipse fill=\"none\" stroke=\"black\" cx=\"41.72\" cy=\"-198.43\" rx=\"41.94\" ry=\"37.45\"/>\n",
       "<text text-anchor=\"middle\" x=\"41.72\" y=\"-209.73\" font-family=\"Times,serif\" font-size=\"14.00\">beta_0</text>\n",
       "<text text-anchor=\"middle\" x=\"41.72\" y=\"-194.73\" font-family=\"Times,serif\" font-size=\"14.00\">~</text>\n",
       "<text text-anchor=\"middle\" x=\"41.72\" y=\"-179.73\" font-family=\"Times,serif\" font-size=\"14.00\">Normal</text>\n",
       "</g>\n",
       "<!-- Fire Alarm -->\n",
       "<g id=\"node3\" class=\"node\">\n",
       "<title>Fire Alarm</title>\n",
       "<ellipse fill=\"lightgrey\" stroke=\"black\" cx=\"98.72\" cy=\"-76.48\" rx=\"54.39\" ry=\"37.45\"/>\n",
       "<text text-anchor=\"middle\" x=\"98.72\" y=\"-87.78\" font-family=\"Times,serif\" font-size=\"14.00\">Fire Alarm</text>\n",
       "<text text-anchor=\"middle\" x=\"98.72\" y=\"-72.78\" font-family=\"Times,serif\" font-size=\"14.00\">~</text>\n",
       "<text text-anchor=\"middle\" x=\"98.72\" y=\"-57.78\" font-family=\"Times,serif\" font-size=\"14.00\">Bernoulli</text>\n",
       "</g>\n",
       "<!-- beta_0&#45;&gt;Fire Alarm -->\n",
       "<g id=\"edge2\" class=\"edge\">\n",
       "<title>beta_0&#45;&gt;Fire Alarm</title>\n",
       "<path fill=\"none\" stroke=\"black\" d=\"M57.75,-163.7C63.96,-150.63 71.15,-135.5 77.75,-121.6\"/>\n",
       "<polygon fill=\"black\" stroke=\"black\" points=\"81.09,-122.74 82.22,-112.21 74.76,-119.74 81.09,-122.74\"/>\n",
       "</g>\n",
       "<!-- beta -->\n",
       "<g id=\"node2\" class=\"node\">\n",
       "<title>beta</title>\n",
       "<ellipse fill=\"none\" stroke=\"black\" cx=\"156.72\" cy=\"-198.43\" rx=\"55.31\" ry=\"37.45\"/>\n",
       "<text text-anchor=\"middle\" x=\"156.72\" y=\"-209.73\" font-family=\"Times,serif\" font-size=\"14.00\">beta</text>\n",
       "<text text-anchor=\"middle\" x=\"156.72\" y=\"-194.73\" font-family=\"Times,serif\" font-size=\"14.00\">~</text>\n",
       "<text text-anchor=\"middle\" x=\"156.72\" y=\"-179.73\" font-family=\"Times,serif\" font-size=\"14.00\">MvNormal</text>\n",
       "</g>\n",
       "<!-- beta&#45;&gt;Fire Alarm -->\n",
       "<g id=\"edge1\" class=\"edge\">\n",
       "<title>beta&#45;&gt;Fire Alarm</title>\n",
       "<path fill=\"none\" stroke=\"black\" d=\"M139.79,-162.41C133.59,-149.6 126.51,-134.94 119.98,-121.45\"/>\n",
       "<polygon fill=\"black\" stroke=\"black\" points=\"123.08,-119.81 115.57,-112.33 116.77,-122.86 123.08,-119.81\"/>\n",
       "</g>\n",
       "</g>\n",
       "</svg>\n"
      ],
      "text/plain": [
       "<graphviz.graphs.Digraph at 0x7f8808fbc790>"
      ]
     },
     "execution_count": 27,
     "metadata": {},
     "output_type": "execute_result"
    }
   ],
   "source": [
    "data2 = data.drop([\"eCO2[ppm]\"], axis = 1) # Remove irrelevant column based on EDA and information from Kaggle\n",
    "data2 = data2.drop([\"PM1.0\"], axis = 1) # Remove irrelevant column based on EDA and information from Kaggle\n",
    "n = data2.shape[0]\n",
    "predictors2 = data2.keys().drop('Fire Alarm')\n",
    "nums = data2[predictors2]\n",
    "y = data2[\"Fire Alarm\"]\n",
    "k = 10\n",
    "mean = nums.mean()\n",
    "std = nums.std()\n",
    "nums = np.array((nums-mean)/std)\n",
    "\n",
    "with pm.Model() as advi:\n",
    "    beta_0 = pm.Normal('beta_0', mu=0, sigma=1)\n",
    "    beta = pm.MvNormal('beta', mu=np.zeros(k), cov=np.eye(k), shape=k)\n",
    "    mu = pm.math.dot(nums,beta) + beta_0\n",
    "    y_pred = pm.Bernoulli('Fire Alarm', p=pm.invlogit(mu), observed=y)\n",
    "pm.model_to_graphviz(advi)"
   ]
  },
  {
   "cell_type": "code",
   "execution_count": 28,
   "id": "3617f425-22f6-47eb-a6bb-4787699d4b3f",
   "metadata": {},
   "outputs": [
    {
     "data": {
      "text/html": [
       "\n",
       "<style>\n",
       "    /* Turns off some styling */\n",
       "    progress {\n",
       "        /* gets rid of default border in Firefox and Opera. */\n",
       "        border: none;\n",
       "        /* Needs to be in here for Safari polyfill so background images work as expected. */\n",
       "        background-size: auto;\n",
       "    }\n",
       "    progress:not([value]), progress:not([value])::-webkit-progress-bar {\n",
       "        background: repeating-linear-gradient(45deg, #7e7e7e, #7e7e7e 10px, #5c5c5c 10px, #5c5c5c 20px);\n",
       "    }\n",
       "    .progress-bar-interrupted, .progress-bar-interrupted::-webkit-progress-bar {\n",
       "        background: #F44336;\n",
       "    }\n",
       "</style>\n"
      ],
      "text/plain": [
       "<IPython.core.display.HTML object>"
      ]
     },
     "metadata": {},
     "output_type": "display_data"
    },
    {
     "data": {
      "text/html": [
       "\n",
       "    <div>\n",
       "      <progress value='10000' class='' max='10000' style='width:300px; height:20px; vertical-align: middle;'></progress>\n",
       "      100.00% [10000/10000 00:33&lt;00:00 Average Loss = 18,669]\n",
       "    </div>\n",
       "    "
      ],
      "text/plain": [
       "<IPython.core.display.HTML object>"
      ]
     },
     "metadata": {},
     "output_type": "display_data"
    },
    {
     "name": "stderr",
     "output_type": "stream",
     "text": [
      "Finished [100%]: Average Loss = 18,664\n"
     ]
    }
   ],
   "source": [
    "with advi:\n",
    "    advi_fit = pm.fit(10000, method='advi')"
   ]
  },
  {
   "cell_type": "code",
   "execution_count": 29,
   "id": "21a8a72d-d872-4fca-83ca-3a4794b0e943",
   "metadata": {},
   "outputs": [
    {
     "data": {
      "image/png": "[encoded data removed]",
      "text/plain": [
       "<Figure size 432x288 with 1 Axes>"
      ]
     },
     "metadata": {
      "needs_background": "light"
     },
     "output_type": "display_data"
    }
   ],
   "source": [
    "elbo = pd.DataFrame({'elbo': -advi_fit.hist, 'n': np.arange(advi_fit.hist.shape[0])})\n",
    "\n",
    "plt.figure()\n",
    "ax = sns.lineplot(y='elbo', x='n', data=elbo)\n",
    "plt.show()"
   ]
  },
  {
   "cell_type": "code",
   "execution_count": 30,
   "id": "de23f81e-0c3e-497c-96f5-5efaaf68fc0b",
   "metadata": {},
   "outputs": [
    {
     "data": {
      "image/png": "[encoded data removed]",
      "text/plain": [
       "<Figure size 432x360 with 1 Axes>"
      ]
     },
     "metadata": {
      "needs_background": "light"
     },
     "output_type": "display_data"
    }
   ],
   "source": [
    "advi_trace = advi_fit.sample(10000)\n",
    "with advi:\n",
    "    pm.plot_forest(advi_trace, var_names=['beta'])"
   ]
  },
  {
   "cell_type": "markdown",
   "id": "c3b96759-459e-4377-a46a-2575ecaf6c74",
   "metadata": {},
   "source": [
    "### Accuracy of ADVI (full) Model"
   ]
  },
  {
   "cell_type": "code",
   "execution_count": 31,
   "id": "a94a25ec-74e2-494b-b198-b829a2693c0e",
   "metadata": {},
   "outputs": [
    {
     "name": "stderr",
     "output_type": "stream",
     "text": [
      "Sampling: [Fire Alarm]\n"
     ]
    },
    {
     "data": {
      "text/html": [
       "\n",
       "<style>\n",
       "    /* Turns off some styling */\n",
       "    progress {\n",
       "        /* gets rid of default border in Firefox and Opera. */\n",
       "        border: none;\n",
       "        /* Needs to be in here for Safari polyfill so background images work as expected. */\n",
       "        background-size: auto;\n",
       "    }\n",
       "    progress:not([value]), progress:not([value])::-webkit-progress-bar {\n",
       "        background: repeating-linear-gradient(45deg, #7e7e7e, #7e7e7e 10px, #5c5c5c 10px, #5c5c5c 20px);\n",
       "    }\n",
       "    .progress-bar-interrupted, .progress-bar-interrupted::-webkit-progress-bar {\n",
       "        background: #F44336;\n",
       "    }\n",
       "</style>\n"
      ],
      "text/plain": [
       "<IPython.core.display.HTML object>"
      ]
     },
     "metadata": {},
     "output_type": "display_data"
    },
    {
     "data": {
      "text/html": [
       "\n",
       "    <div>\n",
       "      <progress value='10000' class='' max='10000' style='width:300px; height:20px; vertical-align: middle;'></progress>\n",
       "      100.00% [10000/10000 00:34&lt;00:00]\n",
       "    </div>\n",
       "    "
      ],
      "text/plain": [
       "<IPython.core.display.HTML object>"
      ]
     },
     "metadata": {},
     "output_type": "display_data"
    },
    {
     "data": {
      "text/plain": [
       "0.7941561551971899"
      ]
     },
     "execution_count": 31,
     "metadata": {},
     "output_type": "execute_result"
    }
   ],
   "source": [
    "ppc = pm.sample_posterior_predictive(advi_trace, model=advi)\n",
    "pred_advi = ppc['posterior_predictive']['Fire Alarm'].mean(axis=0)\n",
    "y_test_pred = (pred_advi >= 0.5).astype(\"int\")\n",
    "advi2 = accuracy_score(data['Fire Alarm'], y_test_pred[5000])\n",
    "advi2"
   ]
  },
  {
   "cell_type": "code",
   "execution_count": null,
   "id": "e1dc5acb-4266-4ab6-87cf-6bbdf8f6d138",
   "metadata": {},
   "outputs": [],
   "source": []
  }
 ],
 "metadata": {
  "kernelspec": {
   "display_name": "Python 3 (ipykernel)",
   "language": "python",
   "name": "python3"
  },
  "language_info": {
   "codemirror_mode": {
    "name": "ipython",
    "version": 3
   },
   "file_extension": ".py",
   "mimetype": "text/x-python",
   "name": "python",
   "nbconvert_exporter": "python",
   "pygments_lexer": "ipython3",
   "version": "3.9.7"
  }
 },
 "nbformat": 4,
 "nbformat_minor": 5
}
